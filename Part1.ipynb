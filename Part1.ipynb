{
  "nbformat": 4,
  "nbformat_minor": 0,
  "metadata": {
    "colab": {
      "name": "Part1.ipynb",
      "provenance": [],
      "collapsed_sections": []
    },
    "kernelspec": {
      "name": "python3",
      "display_name": "Python 3"
    },
    "language_info": {
      "name": "python"
    }
  },
  "cells": [
    {
      "cell_type": "code",
      "metadata": {
        "id": "DH4FUNx5xjZ9"
      },
      "source": [
        "# ex:\n",
        "# Python picked the word: \"Hello23\"\n",
        "# hidden word: 7 \n",
        "# \"_ _ _ _ _ _ _\"\n",
        "# to allow the user enter only one char, \n",
        "# 7 + 4 = 11 "
      ],
      "execution_count": null,
      "outputs": []
    },
    {
      "cell_type": "code",
      "metadata": {
        "id": "8sg0FfNgxkDJ"
      },
      "source": [
        "import random, string"
      ],
      "execution_count": null,
      "outputs": []
    },
    {
      "cell_type": "code",
      "metadata": {
        "id": "GtbpWzCSxkF7"
      },
      "source": [
        "def get_random_string():\n",
        "  length=int(random.randint(3,7))\n",
        "  letters=string.ascii_lowercase + string.digits\n",
        "  result_str=''.join(random.choice(letters) for i in range(length))\n",
        "\n",
        "  return result_str"
      ],
      "execution_count": null,
      "outputs": []
    },
    {
      "cell_type": "code",
      "metadata": {
        "id": "4PyNFBvixkI1"
      },
      "source": [
        "hiddenword = get_random_string()\n",
        "hiddenword"
      ],
      "execution_count": null,
      "outputs": []
    },
    {
      "cell_type": "code",
      "metadata": {
        "id": "yFuLp664xkL5"
      },
      "source": [
        "def hints_for_theuser():\n",
        "  word_len=len(hiddenword)\n",
        "  print(\"The word you're looking for has \", word_len, \" characters\", \n",
        "        \"\\n You will have \", word_len + 4, \" attempts to find the hidden word\")"
      ],
      "execution_count": null,
      "outputs": []
    },
    {
      "cell_type": "code",
      "metadata": {
        "id": "Fwu_cEGMzILh"
      },
      "source": [
        "hints_for_theuser()\n",
        "mylist=[]\n",
        "for i in range(len(hiddenword)):\n",
        "  mylist.append(\"_\")\n",
        "print(mylist)"
      ],
      "execution_count": null,
      "outputs": []
    },
    {
      "cell_type": "code",
      "metadata": {
        "id": "oQRLyOe1zIOg"
      },
      "source": [
        "numberOfAttempt=len(hiddenword) + 4\n",
        "i=1\n",
        "\n",
        "while (i<numberOfAttempt) & ......"
      ],
      "execution_count": null,
      "outputs": []
    },
    {
      "cell_type": "code",
      "metadata": {
        "id": "u7Ntj43tzIRn"
      },
      "source": [
        ""
      ],
      "execution_count": null,
      "outputs": []
    },
    {
      "cell_type": "code",
      "metadata": {
        "id": "v9yIZSuCxkOe"
      },
      "source": [
        ""
      ],
      "execution_count": null,
      "outputs": []
    }
  ]
}