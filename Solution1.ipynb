{
  "nbformat": 4,
  "nbformat_minor": 0,
  "metadata": {
    "colab": {
      "name": "Solution1.ipynb",
      "provenance": [],
      "collapsed_sections": []
    },
    "kernelspec": {
      "name": "python3",
      "display_name": "Python 3"
    },
    "language_info": {
      "name": "python"
    }
  },
  "cells": [
    {
      "cell_type": "code",
      "metadata": {
        "id": "lkfCLjqPeYNm"
      },
      "source": [
        "import random, string"
      ],
      "execution_count": null,
      "outputs": []
    },
    {
      "cell_type": "code",
      "metadata": {
        "id": "ORbcBA9WeYvy"
      },
      "source": [
        "def get_random_string():\n",
        "  length=int(random.randint(3,7))\n",
        "  letters=string.ascii_lowercase + string.digits\n",
        "  result_str=''.join(random.choice(letters) for i in range(length))\n",
        "  return result_str"
      ],
      "execution_count": null,
      "outputs": []
    },
    {
      "cell_type": "code",
      "metadata": {
        "id": "qHQOrzCaeYyl"
      },
      "source": [
        "hidenword=get_random_string()\n",
        "hidenword"
      ],
      "execution_count": null,
      "outputs": []
    },
    {
      "cell_type": "code",
      "metadata": {
        "id": "ab4Wsc2Yp18Z"
      },
      "source": [
        "hidenword=\"hellolo\""
      ],
      "execution_count": null,
      "outputs": []
    },
    {
      "cell_type": "code",
      "metadata": {
        "id": "K3dHg7BBeY1w"
      },
      "source": [
        "def hints_for_the_user():\n",
        "  word_len=len(hidenword)\n",
        "  print(\"The word you're looking for has \", word_len, \" characters\",\n",
        "  \"\\n You will have \",word_len + 4, \" attempts to find the hidden word\" )\n"
      ],
      "execution_count": null,
      "outputs": []
    },
    {
      "cell_type": "code",
      "metadata": {
        "id": "BCgweElNeY5B"
      },
      "source": [
        "hints_for_the_user()\n",
        "mylist=[]\n",
        "for i in range(len(hidenword)):\n",
        "  mylist.append(\"_\")\n",
        "print(mylist)"
      ],
      "execution_count": null,
      "outputs": []
    },
    {
      "cell_type": "code",
      "metadata": {
        "id": "c5N7AkArkCkg"
      },
      "source": [
        "numberOfAttempt=len(hidenword)+4\n",
        "i=1\n",
        "while (i<numberOfAttempt) & (\"_\" in mylist):\n",
        "  letter=input(\"Enter your letter: \")\n",
        "  if letter in hidenword:\n",
        "    if hidenword.count(letter)>1:\n",
        "      for j in range(len(hidenword)):\n",
        "        if hidenword[j]!=letter:\n",
        "          continue\n",
        "        mylist[j]=letter\n",
        "    else:\n",
        "      mylist[hidenword.index(letter)]=letter\n",
        "  \n",
        "  print(mylist)\n",
        "  i +=1\n",
        "if i>numberOfAttempt:\n",
        "  print(\"Sorry! you missed it. The hidden word is \", hidenword)\n",
        "elif not \"_\" in hidenword:\n",
        "  print(\"You got it\")\n",
        "\n"
      ],
      "execution_count": null,
      "outputs": []
    },
    {
      "cell_type": "code",
      "metadata": {
        "id": "9MGcMU9KkCnd"
      },
      "source": [
        "t=\"hello\"\n",
        "t.count(\"l\")"
      ],
      "execution_count": null,
      "outputs": []
    },
    {
      "cell_type": "code",
      "metadata": {
        "id": "NTHnpGXWkCq2"
      },
      "source": [
        "t.index(\"l\")"
      ],
      "execution_count": null,
      "outputs": []
    },
    {
      "cell_type": "code",
      "metadata": {
        "id": "ylW4ZQ3JsJ9E"
      },
      "source": [
        "print(t.find(\"l\",2) )"
      ],
      "execution_count": null,
      "outputs": []
    },
    {
      "cell_type": "code",
      "metadata": {
        "id": "nXpc9vTOsJ_j"
      },
      "source": [
        "word = 'geeks for geeks'\n",
        "  \n",
        "# Substring is searched in 'eks for geeks' \n",
        "print(word.find('ge', 2)) \n",
        "  \n",
        "# Substring is searched in 'eks for geeks' \n",
        "print(word.find('geeks ', 2)) \n",
        "  \n",
        "# Substring is searched in 's for g' \n",
        "print(word.find('g', 4, 10)) \n",
        "  \n",
        "# Substring is searched in 's for g' \n",
        "print(word.find('for ', 4, 11)) "
      ],
      "execution_count": null,
      "outputs": []
    },
    {
      "cell_type": "code",
      "metadata": {
        "id": "TmYIDFRitG6o"
      },
      "source": [
        ""
      ],
      "execution_count": null,
      "outputs": []
    },
    {
      "cell_type": "code",
      "metadata": {
        "id": "0O7O11_HtG9z"
      },
      "source": [
        ""
      ],
      "execution_count": null,
      "outputs": []
    },
    {
      "cell_type": "code",
      "metadata": {
        "id": "iIFbfj1atHAt"
      },
      "source": [
        ""
      ],
      "execution_count": null,
      "outputs": []
    },
    {
      "cell_type": "code",
      "metadata": {
        "id": "P1Cr1gPStHDY"
      },
      "source": [
        ""
      ],
      "execution_count": null,
      "outputs": []
    }
  ]
}